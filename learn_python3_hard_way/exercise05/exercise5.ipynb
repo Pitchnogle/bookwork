{
  "nbformat": 4,
  "nbformat_minor": 0,
  "metadata": {
    "colab": {
      "name": "Untitled5.ipynb",
      "version": "0.3.2",
      "provenance": [],
      "include_colab_link": true
    },
    "kernelspec": {
      "name": "python3",
      "display_name": "Python 3"
    }
  },
  "cells": [
    {
      "cell_type": "markdown",
      "metadata": {
        "id": "view-in-github",
        "colab_type": "text"
      },
      "source": [
        "<a href=\"https://colab.research.google.com/github/Pitchnogle/bookwork/blob/master/learn_python3_hard_way/exercise05/exercise5.ipynb\" target=\"_parent\"><img src=\"https://colab.research.google.com/assets/colab-badge.svg\" alt=\"Open In Colab\"/></a>"
      ]
    },
    {
      "cell_type": "markdown",
      "metadata": {
        "id": "WEsZ7694Q9za",
        "colab_type": "text"
      },
      "source": [
        "**Exercise 5 - More Variables and Printing**"
      ]
    },
    {
      "cell_type": "code",
      "metadata": {
        "id": "BfGhV2fMQ88H",
        "colab_type": "code",
        "colab": {
          "base_uri": "https://localhost:8080/",
          "height": 126
        },
        "outputId": "3c96c30f-5ce2-4442-a448-dbfae62655fa"
      },
      "source": [
        "name = 'Titus Pullo'\n",
        "age = 35\n",
        "height = 74 # inches\n",
        "weight = 180 # lbs\n",
        "eyes = 'Green'\n",
        "teeth = 'White'\n",
        "hair = 'Brown'\n",
        "\n",
        "print(f\"Let's talk about {name}\")\n",
        "print(f\"He's {height} inches tall\")\n",
        "print(f\"He weighs {weight} pounds\")\n",
        "print(f\"He's got {eyes} eyes and {hair} hair\")\n",
        "print(f\"His teeth are usually {teeth} depending on the coffee\")\n",
        "\n",
        "total = age + height + weight\n",
        "print(f\"If I add {age}, {height}, and {weight} I get {total}\")"
      ],
      "execution_count": 4,
      "outputs": [
        {
          "output_type": "stream",
          "text": [
            "Let's talk about Titus Pullo\n",
            "He's 74 inches tall\n",
            "He weighs 180 pounds\n",
            "He's got Green eyes and Brown hair\n",
            "His teeth are usually White depending on the coffee\n",
            "If I add 35, 74, and 180 I get 289\n"
          ],
          "name": "stdout"
        }
      ]
    }
  ]
}