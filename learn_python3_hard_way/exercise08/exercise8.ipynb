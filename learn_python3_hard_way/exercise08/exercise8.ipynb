{
  "nbformat": 4,
  "nbformat_minor": 0,
  "metadata": {
    "colab": {
      "name": "Untitled7.ipynb",
      "version": "0.3.2",
      "provenance": [],
      "include_colab_link": true
    },
    "kernelspec": {
      "name": "python3",
      "display_name": "Python 3"
    }
  },
  "cells": [
    {
      "cell_type": "markdown",
      "metadata": {
        "id": "view-in-github",
        "colab_type": "text"
      },
      "source": [
        "<a href=\"https://colab.research.google.com/github/Pitchnogle/bookwork/blob/master/learn_python3_hard_way/exercise08/exercise8.ipynb\" target=\"_parent\"><img src=\"https://colab.research.google.com/assets/colab-badge.svg\" alt=\"Open In Colab\"/></a>"
      ]
    },
    {
      "cell_type": "markdown",
      "metadata": {
        "id": "g_Tn-Oa-u69Z",
        "colab_type": "text"
      },
      "source": [
        "**Exercise 8 - Printing, Printing**"
      ]
    },
    {
      "cell_type": "code",
      "metadata": {
        "id": "Ash-Mbe0u6NQ",
        "colab_type": "code",
        "colab": {
          "base_uri": "https://localhost:8080/",
          "height": 108
        },
        "outputId": "394ddcf4-0984-465b-dc93-9b07a4828740"
      },
      "source": [
        "formatter = \"{} {} {} {}\"\n",
        "\n",
        "print(formatter.format(1, 2, 3, 4))\n",
        "print(formatter.format(\"one\", \"two\", \"three\", \"four\"))\n",
        "print(formatter.format(True, False, False, True))\n",
        "print(formatter.format(formatter, formatter, formatter, formatter))\n",
        "print(formatter.format(\n",
        "  \"Try your\",\n",
        "  \"own text here\",\n",
        "  \"or just maybe\",\n",
        "  \"be lazy and don't\"\n",
        "))"
      ],
      "execution_count": 1,
      "outputs": [
        {
          "output_type": "stream",
          "text": [
            "1 2 3 4\n",
            "one two three four\n",
            "True False False True\n",
            "{} {} {} {} {} {} {} {} {} {} {} {} {} {} {} {}\n",
            "Try your own text here or just maybe be lazy and don't\n"
          ],
          "name": "stdout"
        }
      ]
    }
  ]
}