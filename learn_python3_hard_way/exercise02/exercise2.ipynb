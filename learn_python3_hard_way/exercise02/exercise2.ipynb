{
  "nbformat": 4,
  "nbformat_minor": 0,
  "metadata": {
    "colab": {
      "name": "Untitled2.ipynb",
      "version": "0.3.2",
      "provenance": [],
      "include_colab_link": true
    },
    "kernelspec": {
      "name": "python3",
      "display_name": "Python 3"
    }
  },
  "cells": [
    {
      "cell_type": "markdown",
      "metadata": {
        "id": "view-in-github",
        "colab_type": "text"
      },
      "source": [
        "<a href=\"https://colab.research.google.com/github/Pitchnogle/bookwork/blob/master/learn_python3_hard_way/exercise02/exercise2.ipynb\" target=\"_parent\"><img src=\"https://colab.research.google.com/assets/colab-badge.svg\" alt=\"Open In Colab\"/></a>"
      ]
    },
    {
      "cell_type": "markdown",
      "metadata": {
        "id": "MUrrwI9E-NSa",
        "colab_type": "text"
      },
      "source": [
        "**Exercise 2 - Comments and Pound Characters**"
      ]
    },
    {
      "cell_type": "code",
      "metadata": {
        "id": "eJzGoZ1N9kxQ",
        "colab_type": "code",
        "colab": {
          "base_uri": "https://localhost:8080/",
          "height": 72
        },
        "outputId": "2fb3f503-9347-4c75-973b-a2371076f6bf"
      },
      "source": [
        "# Single line comments are started with the '#' character\n",
        "# Anthing after the # is ignored\n",
        "print(\"This is printed\") # print(\"This is ignored\")\n",
        "\n",
        "# You can also use comments to disable code\n",
        "# print(\"This won't run\")\n",
        "\n",
        "print('This will run')\n",
        "\n",
        "'''\n",
        "You can also comment out mutiple lines using three single quotes. This example \n",
        "uses single quotes. In colab, the multiline comments are colorized differently \n",
        "than when using the # type comments\n",
        "'''\n",
        "\n",
        "print(\"Will the next comment block print?\")"
      ],
      "execution_count": 1,
      "outputs": [
        {
          "output_type": "stream",
          "text": [
            "This is printed\n",
            "This will run\n",
            "Will the next comment block print?\n"
          ],
          "name": "stdout"
        }
      ]
    },
    {
      "cell_type": "code",
      "metadata": {
        "id": "_cirO90IBA6_",
        "colab_type": "code",
        "colab": {
          "base_uri": "https://localhost:8080/",
          "height": 35
        },
        "outputId": "30d91c8b-4531-48c6-b4c9-17ccac421917"
      },
      "source": [
        "\"\"\"\n",
        "This example uses double quotes. In colab, this seemed to\n",
        "print, which was unexpected. In python2 this is ok...\n",
        "\"\"\""
      ],
      "execution_count": 2,
      "outputs": [
        {
          "output_type": "execute_result",
          "data": {
            "text/plain": [
              "'\\nThis example uses double quotes. In colab, this seemed to\\nprint, which was unexpected. In python2 this is ok...\\n'"
            ]
          },
          "metadata": {
            "tags": []
          },
          "execution_count": 2
        }
      ]
    },
    {
      "cell_type": "code",
      "metadata": {
        "id": "KgfUHelxBePB",
        "colab_type": "code",
        "colab": {
          "base_uri": "https://localhost:8080/",
          "height": 53
        },
        "outputId": "6d941f4d-9765-4e21-faf7-89ce28b37547"
      },
      "source": [
        "# This is outside scope of book but need to determine version for sanity\n",
        "import sys\n",
        "print(sys.version)"
      ],
      "execution_count": 3,
      "outputs": [
        {
          "output_type": "stream",
          "text": [
            "3.6.7 (default, Oct 22 2018, 11:32:17) \n",
            "[GCC 8.2.0]\n"
          ],
          "name": "stdout"
        }
      ]
    }
  ]
}