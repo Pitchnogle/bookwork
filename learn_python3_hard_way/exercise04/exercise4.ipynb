{
  "nbformat": 4,
  "nbformat_minor": 0,
  "metadata": {
    "colab": {
      "name": "Untitled4.ipynb",
      "version": "0.3.2",
      "provenance": [],
      "include_colab_link": true
    },
    "kernelspec": {
      "name": "python3",
      "display_name": "Python 3"
    }
  },
  "cells": [
    {
      "cell_type": "markdown",
      "metadata": {
        "id": "view-in-github",
        "colab_type": "text"
      },
      "source": [
        "<a href=\"https://colab.research.google.com/github/Pitchnogle/bookwork/blob/master/learn_python3_hard_way/exercise04/exercise4.ipynb\" target=\"_parent\"><img src=\"https://colab.research.google.com/assets/colab-badge.svg\" alt=\"Open In Colab\"/></a>"
      ]
    },
    {
      "cell_type": "markdown",
      "metadata": {
        "id": "oFcCnIn1OfiX",
        "colab_type": "text"
      },
      "source": [
        "**Exercise 4 - Variables and Names**"
      ]
    },
    {
      "cell_type": "code",
      "metadata": {
        "id": "CS_WHwOBNvR-",
        "colab_type": "code",
        "colab": {
          "base_uri": "https://localhost:8080/",
          "height": 126
        },
        "outputId": "de689b3f-db5f-423d-c6e2-41dbb839db15"
      },
      "source": [
        "cars = 100\n",
        "space_in_car = 4.0\n",
        "drivers = 30\n",
        "passengers = 90\n",
        "cars_not_driven = cars - drivers\n",
        "cars_driven = drivers\n",
        "carpool_capacity = cars_driven * space_in_car\n",
        "ave_passengers_per_car = passengers / cars_driven\n",
        "\n",
        "print('There are', cars, 'cars available')\n",
        "print('There are only', drivers, 'drivers available')\n",
        "print('There will be', cars_not_driven, 'empty cars today')\n",
        "print('We can transport', carpool_capacity, 'people today')\n",
        "print('We have', passengers, 'to carpool today')\n",
        "print('We need to put about', ave_passengers_per_car, 'in each car')"
      ],
      "execution_count": 3,
      "outputs": [
        {
          "output_type": "stream",
          "text": [
            "There are 100 cars available\n",
            "There are only 30 driver available\n",
            "There will be 70 empty cars today\n",
            "We can transport 120.0 people today\n",
            "We have 90 to carpool today\n",
            "We need to put about 3.0 in each car\n"
          ],
          "name": "stdout"
        }
      ]
    }
  ]
}