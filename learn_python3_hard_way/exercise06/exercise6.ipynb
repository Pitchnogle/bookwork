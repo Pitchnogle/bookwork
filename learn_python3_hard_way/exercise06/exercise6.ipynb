{
  "nbformat": 4,
  "nbformat_minor": 0,
  "metadata": {
    "colab": {
      "name": "Untitled6.ipynb",
      "version": "0.3.2",
      "provenance": [],
      "include_colab_link": true
    },
    "kernelspec": {
      "name": "python3",
      "display_name": "Python 3"
    }
  },
  "cells": [
    {
      "cell_type": "markdown",
      "metadata": {
        "id": "view-in-github",
        "colab_type": "text"
      },
      "source": [
        "<a href=\"https://colab.research.google.com/github/Pitchnogle/bookwork/blob/master/learn_python3_hard_way/exercise06/exercise6.ipynb\" target=\"_parent\"><img src=\"https://colab.research.google.com/assets/colab-badge.svg\" alt=\"Open In Colab\"/></a>"
      ]
    },
    {
      "cell_type": "markdown",
      "metadata": {
        "id": "KvB7C-pwUFHn",
        "colab_type": "text"
      },
      "source": [
        "**Exercise 6 - Strings and Text**"
      ]
    },
    {
      "cell_type": "code",
      "metadata": {
        "id": "SkrGg9-XT89R",
        "colab_type": "code",
        "colab": {
          "base_uri": "https://localhost:8080/",
          "height": 144
        },
        "outputId": "45a02e74-28c0-4c7a-b1a7-c97b71a072e2"
      },
      "source": [
        "types_of_people = 10\n",
        "x = f\"There are {types_of_people} types of people\"\n",
        "\n",
        "binary = \"binary\"\n",
        "do_not = \"don't\"\n",
        "y = f\"Those who know {binary} and those who {do_not}\"\n",
        "\n",
        "print(x)\n",
        "print(y)\n",
        "\n",
        "print(f\"I said: {x}\")\n",
        "print(f\"I also said: '{y}'\")\n",
        "\n",
        "hilarious = False\n",
        "joke_evaluation = \"Isn't that joke so funny?! {}\"\n",
        "\n",
        "print(joke_evaluation.format(hilarious))\n",
        "\n",
        "w = \"This is the left side of...\"\n",
        "e = \"a string with a right side\"\n",
        "\n",
        "print(w + e)\n",
        "\n",
        "z = 3\n",
        "square_evaluation = \"{} squared is {}\"\n",
        "\n",
        "print(square_evaluation.format(z, z ** 2))"
      ],
      "execution_count": 2,
      "outputs": [
        {
          "output_type": "stream",
          "text": [
            "There are 10 types of people\n",
            "Those who know binary and those who don't\n",
            "I said: There are 10 types of people\n",
            "I also said: 'Those who know binary and those who don't'\n",
            "Isn't that joke so funny?! False\n",
            "This is the left side of...a string with a right side\n",
            "3 squared is 9\n"
          ],
          "name": "stdout"
        }
      ]
    }
  ]
}