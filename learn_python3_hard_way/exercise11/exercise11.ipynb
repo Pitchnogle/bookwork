{
  "nbformat": 4,
  "nbformat_minor": 0,
  "metadata": {
    "colab": {
      "name": "Untitled11.ipynb",
      "provenance": [],
      "authorship_tag": "ABX9TyMWGgCuz7QsIqCMrreXQt1U",
      "include_colab_link": true
    },
    "kernelspec": {
      "name": "python3",
      "display_name": "Python 3"
    }
  },
  "cells": [
    {
      "cell_type": "markdown",
      "metadata": {
        "id": "view-in-github",
        "colab_type": "text"
      },
      "source": [
        "<a href=\"https://colab.research.google.com/github/Pitchnogle/bookwork/blob/master/learn_python3_hard_way/exercise11/exercise11.ipynb\" target=\"_parent\"><img src=\"https://colab.research.google.com/assets/colab-badge.svg\" alt=\"Open In Colab\"/></a>"
      ]
    },
    {
      "cell_type": "markdown",
      "metadata": {
        "id": "vq2Buc5jkHs7",
        "colab_type": "text"
      },
      "source": [
        "**Exercise 11 - Asking Questions**"
      ]
    },
    {
      "cell_type": "code",
      "metadata": {
        "id": "UMmUJ_hkiCI9",
        "colab_type": "code",
        "colab": {
          "base_uri": "https://localhost:8080/",
          "height": 90
        },
        "outputId": "bf01f960-52d2-4865-e669-ec0920a48ab8"
      },
      "source": [
        "print('How old are you?', end = ' ')\n",
        "age = input()\n",
        "print('How tall are you?', end = ' ')\n",
        "height = input()\n",
        "print('How much do you weigh?', end = ' ')\n",
        "weight = input()\n",
        "\n",
        "print(f\"So you're {age} years old, {height} tall and {weight} heavy\")"
      ],
      "execution_count": 2,
      "outputs": [
        {
          "output_type": "stream",
          "text": [
            "How old are you? 35\n",
            "How tall are you? 6'2\"\n",
            "How much do you weigh? 170 lbs\n",
            "So you're 35 years old, 6'2\" tall and 170 lbs heavy\n"
          ],
          "name": "stdout"
        }
      ]
    }
  ]
}