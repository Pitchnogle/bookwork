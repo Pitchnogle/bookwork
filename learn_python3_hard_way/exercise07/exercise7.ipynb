{
  "nbformat": 4,
  "nbformat_minor": 0,
  "metadata": {
    "colab": {
      "name": "Untitled",
      "version": "0.3.2",
      "provenance": [],
      "include_colab_link": true
    },
    "kernelspec": {
      "name": "python3",
      "display_name": "Python 3"
    }
  },
  "cells": [
    {
      "cell_type": "markdown",
      "metadata": {
        "id": "view-in-github",
        "colab_type": "text"
      },
      "source": [
        "<a href=\"https://colab.research.google.com/github/Pitchnogle/bookwork/blob/master/learn_python3_hard_way/exercise07/exercise7.ipynb\" target=\"_parent\"><img src=\"https://colab.research.google.com/assets/colab-badge.svg\" alt=\"Open In Colab\"/></a>"
      ]
    },
    {
      "cell_type": "markdown",
      "metadata": {
        "id": "Afcqr-J4tJx2",
        "colab_type": "text"
      },
      "source": [
        "**Exercise 7 - More Printing**"
      ]
    },
    {
      "cell_type": "code",
      "metadata": {
        "id": "UGRj-Pv188Yz",
        "colab_type": "code",
        "colab": {
          "base_uri": "https://localhost:8080/",
          "height": 144
        },
        "outputId": "3cdd0dc9-be41-4a06-af39-bb2d2274a383"
      },
      "source": [
        "print(\"Mary had a little lamb.\")\n",
        "print(\"It's fleece was white as {}.\".format('snow'))\n",
        "print(\"And everywhere Mary went.\")\n",
        "print(\".\" * 10) # prints 10 .\n",
        "\n",
        "end1 = \"C\"\n",
        "end2 = \"h\"\n",
        "end3 = \"e\"\n",
        "end4 = \"e\"\n",
        "end5 = \"s\"\n",
        "end6 = \"e\"\n",
        "end7 = \"B\"\n",
        "end8 = \"u\"\n",
        "end9 = \"r\"\n",
        "end10 = \"g\"\n",
        "end11 = \"e\"\n",
        "end12 = \"r\"\n",
        "\n",
        "# watch end = ' ' at the end. try removing it to sew what happens\n",
        "print(end1 + end2 + end3 + end4 + end5 + end6, end = ' ')\n",
        "print(end7 + end8 + end9 + end10 + end11 + end12)\n",
        "# try without the end = ' '\n",
        "print(end1 + end2 + end3 + end4 + end5 + end6)\n",
        "print(end7 + end8 + end9 + end10 + end11 + end12)"
      ],
      "execution_count": 1,
      "outputs": [
        {
          "output_type": "stream",
          "text": [
            "Mary had a little lamb.\n",
            "It's fleece was white as snow.\n",
            "And everywhere Mary went.\n",
            "..........\n",
            "Cheese Burger\n",
            "Cheese\n",
            "Burger\n"
          ],
          "name": "stdout"
        }
      ]
    }
  ]
}