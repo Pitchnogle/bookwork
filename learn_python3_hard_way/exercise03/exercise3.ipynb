{
  "nbformat": 4,
  "nbformat_minor": 0,
  "metadata": {
    "colab": {
      "name": "Untitled3.ipynb",
      "version": "0.3.2",
      "provenance": [],
      "include_colab_link": true
    },
    "kernelspec": {
      "name": "python3",
      "display_name": "Python 3"
    }
  },
  "cells": [
    {
      "cell_type": "markdown",
      "metadata": {
        "id": "view-in-github",
        "colab_type": "text"
      },
      "source": [
        "<a href=\"https://colab.research.google.com/github/Pitchnogle/bookwork/blob/master/learn_python3_hard_way/exercise03/exercise.ipynb\" target=\"_parent\"><img src=\"https://colab.research.google.com/assets/colab-badge.svg\" alt=\"Open In Colab\"/></a>"
      ]
    },
    {
      "cell_type": "markdown",
      "metadata": {
        "id": "y-ruuOycCs3y",
        "colab_type": "text"
      },
      "source": [
        "**Exercise 3 - Numbers and Math**"
      ]
    },
    {
      "cell_type": "code",
      "metadata": {
        "id": "XByVwDApCsF0",
        "colab_type": "code",
        "colab": {
          "base_uri": "https://localhost:8080/",
          "height": 253
        },
        "outputId": "ac2cd97c-fb2c-4901-e384-26cea40d6ed5"
      },
      "source": [
        "print(\"I will now count my chickens:\")\n",
        "print(\"Hens\", 25 + 30 / 6)\n",
        "print(\"Roosters\", 100 - 25 * 3 % 4)\n",
        "print(\"Now I will count the eggs:\")\n",
        "print(3 + 2 + 1 - 5 + 4 % 2 - 1 / 4 + 6)\n",
        "print(\"Is it true that 3 + 2 < 5 - 7?\")\n",
        "print(3 + 2 < 5 - 7)\n",
        "print('What is 3 + 2?', 3 + 2)\n",
        "print('What is 5 - 7?', 5 - 7)\n",
        "print(\"That's why it's false\")\n",
        "print(\"Is it greater?\", 5 > -2)\n",
        "print(\"Is it greater than or equal?\", 5 >= -2)\n",
        "print(\"Is is less than or equal?\", 5 <= -2)"
      ],
      "execution_count": 1,
      "outputs": [
        {
          "output_type": "stream",
          "text": [
            "I will now count my chickens:\n",
            "Hens 30.0\n",
            "Roosters 97\n",
            "Now I will count the eggs:\n",
            "6.75\n",
            "Is it true that 3 + 2 < 5 - 7?\n",
            "False\n",
            "What is 3 + 2? 5\n",
            "What is 5 - 7? -2\n",
            "That's why it's false\n",
            "Is it greater? True\n",
            "Is it greater than or equal? True\n",
            "Is is less than or equal? False\n"
          ],
          "name": "stdout"
        }
      ]
    }
  ]
}