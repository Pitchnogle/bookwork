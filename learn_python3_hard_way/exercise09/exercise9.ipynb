{
  "nbformat": 4,
  "nbformat_minor": 0,
  "metadata": {
    "colab": {
      "name": "Untitled8.ipynb",
      "version": "0.3.2",
      "provenance": [],
      "include_colab_link": true
    },
    "kernelspec": {
      "name": "python3",
      "display_name": "Python 3"
    }
  },
  "cells": [
    {
      "cell_type": "markdown",
      "metadata": {
        "id": "view-in-github",
        "colab_type": "text"
      },
      "source": [
        "<a href=\"https://colab.research.google.com/github/Pitchnogle/bookwork/blob/master/learn_python3_hard_way/exercise09/exercise9.ipynb\" target=\"_parent\"><img src=\"https://colab.research.google.com/assets/colab-badge.svg\" alt=\"Open In Colab\"/></a>"
      ]
    },
    {
      "cell_type": "markdown",
      "metadata": {
        "id": "VyA9JbdTwfAl",
        "colab_type": "text"
      },
      "source": [
        "**Exercise 9 - Printing, Printing, Printing**"
      ]
    },
    {
      "cell_type": "code",
      "metadata": {
        "id": "xSL3tIplweWx",
        "colab_type": "code",
        "colab": {
          "base_uri": "https://localhost:8080/",
          "height": 362
        },
        "outputId": "ffeb5955-a739-428c-e265-0172f06be0e7"
      },
      "source": [
        "days = \"Mon Tue Wed Thu Fri Sat Sun\"\n",
        "months = \"Jan\\nFeb\\nMar\\nApr\\nMay\\nJun\\nJul\\nAug\\nSep\\nOct\\nNov\\nDec\"\n",
        "\n",
        "print(\"Here are the days:\", days)\n",
        "print(\"Here are the months:\", months)\n",
        "\n",
        "print(\"\"\"\n",
        "There's something going on here with\n",
        "the double-quotes. We'll be able to\n",
        "type as much as we like. Even four \n",
        "lines if we want, or even more...\n",
        "\"\"\")"
      ],
      "execution_count": 1,
      "outputs": [
        {
          "output_type": "stream",
          "text": [
            "Here are the days: Mon Tue Wed Thu Fri Sat Sun\n",
            "Here are the months: Jan\n",
            "Feb\n",
            "Mar\n",
            "Apr\n",
            "May\n",
            "Jun\n",
            "Jul\n",
            "Aug\n",
            "Sep\n",
            "Oct\n",
            "Nov\n",
            "Dec\n",
            "\n",
            "There's something going on here with\n",
            "the double-quotes. We'll be able to\n",
            "type as much as we like. Even four \n",
            "lines if we want, or even more...\n",
            "\n"
          ],
          "name": "stdout"
        }
      ]
    }
  ]
}