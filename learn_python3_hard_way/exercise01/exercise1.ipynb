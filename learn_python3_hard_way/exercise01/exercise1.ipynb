{
  "nbformat": 4,
  "nbformat_minor": 0,
  "metadata": {
    "colab": {
      "name": "Untitled1.ipynb",
      "version": "0.3.2",
      "provenance": [],
      "include_colab_link": true
    },
    "kernelspec": {
      "name": "python3",
      "display_name": "Python 3"
    }
  },
  "cells": [
    {
      "cell_type": "markdown",
      "metadata": {
        "id": "view-in-github",
        "colab_type": "text"
      },
      "source": [
        "<a href=\"https://colab.research.google.com/github/Pitchnogle/bookwork/blob/master/learn_python3_hard_way/exercise1.ipynb\" target=\"_parent\"><img src=\"https://colab.research.google.com/assets/colab-badge.svg\" alt=\"Open In Colab\"/></a>"
      ]
    },
    {
      "cell_type": "markdown",
      "metadata": {
        "id": "uPDnH3WH4sX0",
        "colab_type": "text"
      },
      "source": [
        "**Exercise 1 - A Good First Program**\n"
      ]
    },
    {
      "cell_type": "code",
      "metadata": {
        "id": "oqJ7g3B0fOv9",
        "colab_type": "code",
        "colab": {
          "base_uri": "https://localhost:8080/",
          "height": 90
        },
        "outputId": "7069ab2e-d73f-4d1f-9cd8-c421b5f655c3"
      },
      "source": [
        "print(\"Hello World!\")\n",
        "print('Hello again?')\n",
        "print('This line has embedded \"quotes\"')\n",
        "print(\"This line also has embedded \\\"quotes\\\"\")"
      ],
      "execution_count": 1,
      "outputs": [
        {
          "output_type": "stream",
          "text": [
            "Hello World!\n",
            "Hello again?\n",
            "This line has embedded \"quotes\"\n",
            "This line also has embedded \"quotes\"\n"
          ],
          "name": "stdout"
        }
      ]
    },
    {
      "cell_type": "code",
      "metadata": {
        "id": "2iz6YHL37Xet",
        "colab_type": "code",
        "colab": {
          "base_uri": "https://localhost:8080/",
          "height": 35
        },
        "outputId": "026eb61a-7320-4125-e21d-b48f5a757439"
      },
      "source": [
        "#print('What does an \"octothorpe\" do?')\n",
        "print(\"It's a comment!\")"
      ],
      "execution_count": 2,
      "outputs": [
        {
          "output_type": "stream",
          "text": [
            "It's a comment!\n"
          ],
          "name": "stdout"
        }
      ]
    }
  ]
}