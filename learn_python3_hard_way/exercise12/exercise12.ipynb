{
  "nbformat": 4,
  "nbformat_minor": 0,
  "metadata": {
    "colab": {
      "name": "Untitled12.ipynb",
      "provenance": [],
      "authorship_tag": "ABX9TyNSmhhimulBYjiDYVceOQsC",
      "include_colab_link": true
    },
    "kernelspec": {
      "name": "python3",
      "display_name": "Python 3"
    }
  },
  "cells": [
    {
      "cell_type": "markdown",
      "metadata": {
        "id": "view-in-github",
        "colab_type": "text"
      },
      "source": [
        "<a href=\"https://colab.research.google.com/github/Pitchnogle/bookwork/blob/master/learn_python3_hard_way/exercise12/exercise12.ipynb\" target=\"_parent\"><img src=\"https://colab.research.google.com/assets/colab-badge.svg\" alt=\"Open In Colab\"/></a>"
      ]
    },
    {
      "cell_type": "markdown",
      "metadata": {
        "id": "RCpFliPS1ViC",
        "colab_type": "text"
      },
      "source": [
        "**Exercise 12 - Prompting People**"
      ]
    },
    {
      "cell_type": "markdown",
      "metadata": {
        "id": "8IBbMLna2KL5",
        "colab_type": "text"
      },
      "source": [
        "This is a reimplementation of exercise 11 demonstrating another way to prompt for user input."
      ]
    },
    {
      "cell_type": "code",
      "metadata": {
        "id": "cCEME_6W1S0l",
        "colab_type": "code",
        "colab": {
          "base_uri": "https://localhost:8080/",
          "height": 90
        },
        "outputId": "fa102cb8-2a22-4e13-8f92-c71f4a7761b6"
      },
      "source": [
        "age = input('How old are you? ')\n",
        "height = input('How tall are you? ')\n",
        "weight = input('How much do you weigh? ')\n",
        "\n",
        "print(f\"So, you're {age} years old, {height} tall and {weight} heavy\")"
      ],
      "execution_count": 2,
      "outputs": [
        {
          "output_type": "stream",
          "text": [
            "How old are you? 35\n",
            "How tall are you? 6'2\"\n",
            "How much do you weigh? 170 lbs\n",
            "So, you're 35 years old, 6'2\" tall and 170 lbs heavy\n"
          ],
          "name": "stdout"
        }
      ]
    }
  ]
}