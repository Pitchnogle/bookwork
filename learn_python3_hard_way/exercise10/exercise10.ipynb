{
  "nbformat": 4,
  "nbformat_minor": 0,
  "metadata": {
    "colab": {
      "name": "Untitled9.ipynb",
      "provenance": [],
      "include_colab_link": true
    },
    "kernelspec": {
      "name": "python3",
      "display_name": "Python 3"
    }
  },
  "cells": [
    {
      "cell_type": "markdown",
      "metadata": {
        "id": "view-in-github",
        "colab_type": "text"
      },
      "source": [
        "<a href=\"https://colab.research.google.com/github/Pitchnogle/bookwork/blob/master/learn_python3_hard_way/exercise10/exercise10.ipynb\" target=\"_parent\"><img src=\"https://colab.research.google.com/assets/colab-badge.svg\" alt=\"Open In Colab\"/></a>"
      ]
    },
    {
      "cell_type": "markdown",
      "metadata": {
        "id": "IIMiqZHzy3ZO",
        "colab_type": "text"
      },
      "source": [
        "**Exercise 10 - What was that?**"
      ]
    },
    {
      "cell_type": "code",
      "metadata": {
        "id": "rlwj3-u8yTkw",
        "colab_type": "code",
        "outputId": "c54495e8-9602-47ec-dd8c-811f62f7859c",
        "colab": {
          "base_uri": "https://localhost:8080/",
          "height": 217
        }
      },
      "source": [
        "tabby_cat = \"\\tI'm tabbed in.\"\n",
        "persian_cat = \"I'm split\\non a line.\"\n",
        "backslash_cat = \"I'm \\\\ a \\\\ cat.\"\n",
        "\n",
        "fat_cat = \"\"\"\n",
        "I'll do a list:\n",
        "\\t* Cat food\n",
        "\\t* Fishies\n",
        "\\t* Catnip\\n\\t* Grass\n",
        "\"\"\"\n",
        "\n",
        "print(tabby_cat)\n",
        "print(persian_cat)\n",
        "print(backslash_cat)\n",
        "print(fat_cat)"
      ],
      "execution_count": 0,
      "outputs": [
        {
          "output_type": "stream",
          "text": [
            "\tI'm tabbed in.\n",
            "I'm split\n",
            "on a line.\n",
            "I'm \\ a \\ cat.\n",
            "\n",
            "I'll do a list:\n",
            "\t* Cat food\n",
            "\t* Fishies\n",
            "\t* Catnip\n",
            "\t* Grass\n",
            "\n"
          ],
          "name": "stdout"
        }
      ]
    },
    {
      "cell_type": "markdown",
      "metadata": {
        "id": "ckfEpYuZz5hv",
        "colab_type": "text"
      },
      "source": [
        "**Escape Sequences**\n",
        "\n",
        "| Escape | What it does |\n",
        "| :----------- | :------------------- |\n",
        "| \\\\\\ | Backslash (\\\\) |\n",
        "| \\\\' | Single-quote (') |\n",
        "| \\\\\" | Double-quote (\") |\n",
        "| \\a | ASCII bell (BEL) |\n",
        "| \\b | ASCII backspace (BS) |\n",
        "| \\f | ASCII formfeed (FF) |\n",
        "| \\n | ASCII linefeed (LF) |\n",
        "| \\N{name} | Character named `name` in the Unicode database (Unicode only) |\n",
        "| \\r | Carriage return (CR) |\n",
        "| \\t | Horizontal tab (TAB) |\n",
        "| \\uxxxx | Character with 16-bit hex value xxxx |\n",
        "| \\Uxxxxxxxx | Character with 32-bit hex value xxxxxxxx |\n",
        "| \\v | ASCII vertical tab (VT) |\n",
        "| \\000 | Character with octal value 000 |\n",
        "| \\xhh | Character with hex value hh |"
      ]
    }
  ]
}