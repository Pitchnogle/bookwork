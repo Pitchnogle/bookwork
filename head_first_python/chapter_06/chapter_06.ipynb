{
 "cells": [
  {
   "cell_type": "code",
   "execution_count": 1,
   "metadata": {},
   "outputs": [
    {
     "name": "stdout",
     "output_type": "stream",
     "text": [
      "Sarah Sweeney's fastest times are: ['2.18', '2.21', '2.22']\n"
     ]
    }
   ],
   "source": [
    "# Code Magnets (pg 175)\n",
    "\n",
    "def sanitize(time_string):\n",
    "    if '-' in time_string:\n",
    "        splitter = '-'\n",
    "    elif ':' in time_string:\n",
    "        splitter = ':'\n",
    "    else:\n",
    "        return(time_string)\n",
    "    (min,secs) = time_string.split(splitter)\n",
    "    return(min + '.' + secs)\n",
    "\n",
    "def get_coach_data(filename):\n",
    "    try:\n",
    "        with open(filename) as f:\n",
    "            data = f.readline()\n",
    "        return(data.strip().split(','))\n",
    "    except IOError as ioerr:\n",
    "        print('File error: ' + str(ioerr))\n",
    "        return(None)\n",
    "    \n",
    "data = get_coach_data('sarah2.txt')\n",
    "(name, dob) = data.pop(0), data.pop(0)\n",
    "print(name + \"'s fastest times are: \" + str(sorted(set([sanitize(each_t) for each_t in data]))[0:3]))"
   ]
  },
  {
   "cell_type": "code",
   "execution_count": 2,
   "metadata": {},
   "outputs": [
    {
     "name": "stdout",
     "output_type": "stream",
     "text": [
      "Sarah Sweeney's fastest times are: ['2.18', '2.21', '2.22']\n"
     ]
    }
   ],
   "source": [
    "# Exercise (pg 181)\n",
    "\n",
    "data = get_coach_data('sarah2.txt')\n",
    "\n",
    "# Make a dictionary\n",
    "sarah_data = {}\n",
    "sarah_data['name'] = data.pop(0)\n",
    "sarah_data['dob'] = data.pop(0)\n",
    "sarah_data['times'] = data\n",
    "\n",
    "print(sarah_data['name'] + \"'s fastest times are: \" + \n",
    "      str(sorted(set([sanitize(each_t) for each_t in sarah_data['times']]))[0:3]))"
   ]
  },
  {
   "cell_type": "code",
   "execution_count": 3,
   "metadata": {},
   "outputs": [
    {
     "name": "stdout",
     "output_type": "stream",
     "text": [
      "Sarah Sweeney's fastest times are: ['2.18', '2.21', '2.22']\n",
      "James Lee's fastest times are: ['2.01', '2.22', '2.34']\n"
     ]
    }
   ],
   "source": [
    "# Sharpen your pencil (pg 185)\n",
    "\n",
    "def get_coach_data(filename):\n",
    "    try:\n",
    "        with open(filename) as f:\n",
    "            data = f.readline()\n",
    "        tmp = data.strip().split(',')\n",
    "        return({'name'  : tmp.pop(0),\n",
    "                'dob'   : tmp.pop(0),\n",
    "                'times' : str(sorted(set([sanitize(each_t) for each_t in tmp]))[0:3])})\n",
    "    except IOError as ioerr:\n",
    "        print('File error: ' + str(ioerr))\n",
    "        return(None)\n",
    "\n",
    "sarah_data = get_coach_data('sarah2.txt')\n",
    "print(sarah_data['name'] + \"'s fastest times are: \" + sarah_data['times'])\n",
    "\n",
    "james_data = get_coach_data('james2.txt')\n",
    "print(james_data['name'] + \"'s fastest times are: \" + james_data['times'])"
   ]
  },
  {
   "cell_type": "code",
   "execution_count": 4,
   "metadata": {},
   "outputs": [
    {
     "name": "stdout",
     "output_type": "stream",
     "text": [
      "Sarah Sweeney's fastest times are: ['2.18', '2.21', '2.22']\n",
      "James Lee's fastest times are: ['2.01', '2.22', '2.34']\n"
     ]
    }
   ],
   "source": [
    "# Sharpen your pencil (pg 195)\n",
    "\n",
    "class Athlete:\n",
    "    def __init__(self, name, dob=None, times=[]):\n",
    "        self.name = name\n",
    "        self.dob = dob\n",
    "        self.times = times\n",
    "    \n",
    "    def top3(self):\n",
    "        return(str(sorted(set([sanitize(each_t) for each_t in self.times]))[0:3]))\n",
    "\n",
    "def get_coach_data(filename):\n",
    "    try:\n",
    "        with open(filename) as f:\n",
    "            data = f.readline()\n",
    "        tmp = data.strip().split(',')\n",
    "        return(Athlete(tmp.pop(0), tmp.pop(0), tmp))\n",
    "    except IOError as ioerr:\n",
    "        print('File error: ' + str(ioerr))\n",
    "        return(None)\n",
    "\n",
    "sarah = get_coach_data('sarah2.txt')\n",
    "print(sarah.name + \"'s fastest times are: \" + sarah.top3())\n",
    "\n",
    "james = get_coach_data('james2.txt')\n",
    "print(james.name + \"'s fastest times are: \" + james.top3())"
   ]
  },
  {
   "cell_type": "code",
   "execution_count": 5,
   "metadata": {},
   "outputs": [
    {
     "name": "stdout",
     "output_type": "stream",
     "text": [
      "['1.31']\n",
      "['1.21', '1.31', '2.22']\n"
     ]
    }
   ],
   "source": [
    "# Exercise (pg 199)\n",
    "\n",
    "class Athlete:\n",
    "    def __init__(self, name, dob=None, times=[]):\n",
    "        self.name = name\n",
    "        self.dob = dob\n",
    "        self.times = times\n",
    "    \n",
    "    def top3(self):\n",
    "        return(str(sorted(set([sanitize(each_t) for each_t in self.times]))[0:3]))\n",
    "    \n",
    "    def add_time(self, time_value):\n",
    "        self.times.append(time_value)\n",
    "        \n",
    "    def add_times(self, list_of_times):\n",
    "        self.times.extend(list_of_times)\n",
    "\n",
    "vera = Athlete('Vera Vi')\n",
    "vera.add_time('1.31')\n",
    "print(vera.top3())\n",
    "\n",
    "vera.add_times(['2.23', '1-21', '2:22'])\n",
    "print(vera.top3())"
   ]
  },
  {
   "cell_type": "code",
   "execution_count": 6,
   "metadata": {},
   "outputs": [
    {
     "name": "stdout",
     "output_type": "stream",
     "text": [
      "['1.31']\n",
      "['1.21', '1.31', '2.22']\n"
     ]
    }
   ],
   "source": [
    "# Exercise (pg 206)\n",
    "\n",
    "class AthleteList(list):\n",
    "    def __init__(self, name, dob=None, times=[]):\n",
    "        list.__init__([])\n",
    "        self.name = name\n",
    "        self.dob = dob\n",
    "        self.extend(times)\n",
    "    \n",
    "    def top3(self):\n",
    "        return(str(sorted(set([sanitize(each_t) for each_t in self]))[0:3]))\n",
    "\n",
    "vera = AthleteList('Vera Vi')\n",
    "vera.append('1.31')\n",
    "print(vera.top3())\n",
    "\n",
    "vera.extend(['2.23', '1-21', '2:22'])\n",
    "print(vera.top3())"
   ]
  }
 ],
 "metadata": {
  "kernelspec": {
   "display_name": "Python 3",
   "language": "python",
   "name": "python3"
  },
  "language_info": {
   "codemirror_mode": {
    "name": "ipython",
    "version": 3
   },
   "file_extension": ".py",
   "mimetype": "text/x-python",
   "name": "python",
   "nbconvert_exporter": "python",
   "pygments_lexer": "ipython3",
   "version": "3.6.7"
  }
 },
 "nbformat": 4,
 "nbformat_minor": 2
}
