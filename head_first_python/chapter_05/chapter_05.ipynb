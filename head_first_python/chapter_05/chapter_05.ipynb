{
 "cells": [
  {
   "cell_type": "code",
   "execution_count": 1,
   "metadata": {},
   "outputs": [
    {
     "name": "stdout",
     "output_type": "stream",
     "text": [
      "['2-34', '3:21', '2.34', '2.45', '3.01', '2:01', '2:01', '3:10', '2-22']\n",
      "['2.59', '2.11', '2:11', '2:23', '3-10', '2-23', '3:10', '3.21', '3-21']\n",
      "['2:22', '3.01', '3:01', '3.02', '3:02', '3.02', '3:22', '2.49', '2:38']\n",
      "['2:58', '2:58', '2:39', '2-25', '2-55', '2:54', '2.18', '2:55', '2:55']\n"
     ]
    }
   ],
   "source": [
    "# Test Drive (pg 143)\n",
    "\n",
    "with open('james.txt') as jaf:\n",
    "    data = jaf.readline()\n",
    "james = data.strip().split(',')\n",
    "\n",
    "with open('julie.txt') as juf:\n",
    "    data = juf.readline()\n",
    "julie = data.strip().split(',')\n",
    "\n",
    "with open('mikey.txt') as mif:\n",
    "    data = mif.readline()\n",
    "mikey = data.strip().split(',')\n",
    "\n",
    "with open('sarah.txt') as saf:\n",
    "    data = saf.readline()\n",
    "sarah = data.strip().split(',')\n",
    "\n",
    "print(james)\n",
    "print(julie)\n",
    "print(mikey)\n",
    "print(sarah)"
   ]
  },
  {
   "cell_type": "code",
   "execution_count": 2,
   "metadata": {},
   "outputs": [],
   "source": [
    "def sanitize(time_string):\n",
    "    if '-' in time_string:\n",
    "        splitter = '-'\n",
    "    elif ':' in time_string:\n",
    "        splitter = ':'\n",
    "    else:\n",
    "        return(time_string)\n",
    "    (min, secs) = time_string.split(splitter)\n",
    "    return(min + '.' + secs)"
   ]
  },
  {
   "cell_type": "code",
   "execution_count": 3,
   "metadata": {},
   "outputs": [
    {
     "name": "stdout",
     "output_type": "stream",
     "text": [
      "['2.01', '2.01', '2.22', '2.34', '2.34', '2.45', '3.01', '3.10', '3.21']\n",
      "['2.11', '2.11', '2.23', '2.23', '2.59', '3.10', '3.10', '3.21', '3.21']\n",
      "['2.22', '2.38', '2.49', '3.01', '3.01', '3.02', '3.02', '3.02', '3.22']\n",
      "['2.18', '2.25', '2.39', '2.54', '2.55', '2.55', '2.55', '2.58', '2.58']\n"
     ]
    }
   ],
   "source": [
    "# Exercise (pg 151)\n",
    "\n",
    "with open('james.txt') as jaf:\n",
    "    data = jaf.readline()\n",
    "james = data.strip().split(',')\n",
    "\n",
    "with open('julie.txt') as juf:\n",
    "    data = juf.readline()\n",
    "julie = data.strip().split(',')\n",
    "\n",
    "with open('mikey.txt') as mif:\n",
    "    data = mif.readline()\n",
    "mikey = data.strip().split(',')\n",
    "\n",
    "with open('sarah.txt') as saf:\n",
    "    data = saf.readline()\n",
    "sarah = data.strip().split(',')\n",
    "\n",
    "clean_james = []\n",
    "clean_julie = []\n",
    "clean_mikey = []\n",
    "clean_sarah = []\n",
    "\n",
    "for each_time in james:\n",
    "    clean_james.append(sanitize(each_time))\n",
    "    \n",
    "for each_time in julie:\n",
    "    clean_julie.append(sanitize(each_time))\n",
    "    \n",
    "for each_time in mikey:\n",
    "    clean_mikey.append(sanitize(each_time))\n",
    "   \n",
    "for each_time in sarah:\n",
    "    clean_sarah.append(sanitize(each_time))\n",
    "    \n",
    "print(sorted(clean_james))\n",
    "print(sorted(clean_julie))\n",
    "print(sorted(clean_mikey))\n",
    "print(sorted(clean_sarah))"
   ]
  },
  {
   "cell_type": "code",
   "execution_count": 4,
   "metadata": {},
   "outputs": [
    {
     "name": "stdout",
     "output_type": "stream",
     "text": [
      "['2.01', '2.01', '2.22', '2.34', '2.34', '2.45', '3.01', '3.10', '3.21']\n",
      "['2.11', '2.11', '2.23', '2.23', '2.59', '3.10', '3.10', '3.21', '3.21']\n",
      "['2.22', '2.38', '2.49', '3.01', '3.01', '3.02', '3.02', '3.02', '3.22']\n",
      "['2.18', '2.25', '2.39', '2.54', '2.55', '2.55', '2.55', '2.58', '2.58']\n"
     ]
    }
   ],
   "source": [
    "# List Comprehension\n",
    "\n",
    "with open('james.txt') as jaf:\n",
    "    data = jaf.readline()\n",
    "james = data.strip().split(',')\n",
    "\n",
    "with open('julie.txt') as juf:\n",
    "    data = juf.readline()\n",
    "julie = data.strip().split(',')\n",
    "\n",
    "with open('mikey.txt') as mif:\n",
    "    data = mif.readline()\n",
    "mikey = data.strip().split(',')\n",
    "\n",
    "with open('sarah.txt') as saf:\n",
    "    data = saf.readline()\n",
    "sarah = data.strip().split(',')\n",
    "   \n",
    "print(sorted([sanitize(each_time) for each_time in james]))\n",
    "print(sorted([sanitize(each_time) for each_time in julie]))\n",
    "print(sorted([sanitize(each_time) for each_time in mikey]))\n",
    "print(sorted([sanitize(each_time) for each_time in sarah]))"
   ]
  },
  {
   "cell_type": "code",
   "execution_count": 5,
   "metadata": {},
   "outputs": [
    {
     "name": "stdout",
     "output_type": "stream",
     "text": [
      "['2.01', '2.22', '2.34']\n",
      "['2.11', '2.23', '2.59']\n",
      "['2.22', '2.38', '2.49']\n",
      "['2.18', '2.25', '2.39']\n"
     ]
    }
   ],
   "source": [
    "# Test Drive (pg 163)\n",
    "\n",
    "james = sorted([sanitize(each_time) for each_time in james])\n",
    "julie = sorted([sanitize(each_time) for each_time in julie])\n",
    "mikey = sorted([sanitize(each_time) for each_time in mikey])\n",
    "sarah = sorted([sanitize(each_time) for each_time in sarah])\n",
    "\n",
    "unique_james = []\n",
    "for each_time in james:\n",
    "    if each_time not in unique_james:\n",
    "        unique_james.append(each_time)\n",
    "print(unique_james[0:3])\n",
    "\n",
    "unique_julie = []\n",
    "for each_time in julie:\n",
    "    if each_time not in unique_julie:\n",
    "        unique_julie.append(each_time)\n",
    "print(unique_julie[0:3])\n",
    "\n",
    "unique_mikey = []\n",
    "for each_time in mikey:\n",
    "    if each_time not in unique_mikey:\n",
    "        unique_mikey.append(each_time)\n",
    "print(unique_mikey[0:3])\n",
    "\n",
    "unique_sarah = []\n",
    "for each_time in sarah:\n",
    "    if each_time not in unique_sarah:\n",
    "        unique_sarah.append(each_time)\n",
    "print(unique_sarah[0:3])"
   ]
  },
  {
   "cell_type": "code",
   "execution_count": 6,
   "metadata": {},
   "outputs": [
    {
     "name": "stdout",
     "output_type": "stream",
     "text": [
      "['2.01', '2.22', '2.34']\n",
      "['2.11', '2.23', '2.59']\n",
      "['2.22', '2.38', '2.49']\n",
      "['2.18', '2.25', '2.39']\n"
     ]
    }
   ],
   "source": [
    "# Use set() to remove duplicates\n",
    "\n",
    "james = sorted([sanitize(each_time) for each_time in james])\n",
    "julie = sorted([sanitize(each_time) for each_time in julie])\n",
    "mikey = sorted([sanitize(each_time) for each_time in mikey])\n",
    "sarah = sorted([sanitize(each_time) for each_time in sarah])\n",
    "\n",
    "print(sorted(set([sanitize(each_time) for each_time in james]))[0:3])\n",
    "print(sorted(set([sanitize(each_time) for each_time in julie]))[0:3])\n",
    "print(sorted(set([sanitize(each_time) for each_time in mikey]))[0:3])\n",
    "print(sorted(set([sanitize(each_time) for each_time in sarah]))[0:3])"
   ]
  },
  {
   "cell_type": "code",
   "execution_count": 7,
   "metadata": {},
   "outputs": [
    {
     "name": "stdout",
     "output_type": "stream",
     "text": [
      "['2.01', '2.22', '2.34']\n",
      "['2.11', '2.23', '2.59']\n",
      "['2.22', '2.38', '2.49']\n",
      "['2.18', '2.25', '2.39']\n"
     ]
    }
   ],
   "source": [
    "def get_coach_data(filename):\n",
    "    try:\n",
    "        with open(filename) as f:\n",
    "            data = f.readline()\n",
    "        return(data.strip().split(','))\n",
    "    except IOError as ioerr:\n",
    "        print('File error: ' + str(ioerr))\n",
    "        return(None)\n",
    "\n",
    "def print_top_times(times):\n",
    "    print(sorted(set([sanitize(each_time) for each_time in times]))[0:3])\n",
    "\n",
    "james = get_coach_data('james.txt')\n",
    "print_top_times(james)\n",
    "\n",
    "julie = get_coach_data('julie.txt')\n",
    "print_top_times(julie)\n",
    "\n",
    "mikey = get_coach_data('mikey.txt')\n",
    "print_top_times(mikey)\n",
    "\n",
    "sarah = get_coach_data('sarah.txt')\n",
    "print_top_times(sarah)\n"
   ]
  }
 ],
 "metadata": {
  "kernelspec": {
   "display_name": "Python 3",
   "language": "python",
   "name": "python3"
  },
  "language_info": {
   "codemirror_mode": {
    "name": "ipython",
    "version": 3
   },
   "file_extension": ".py",
   "mimetype": "text/x-python",
   "name": "python",
   "nbconvert_exporter": "python",
   "pygments_lexer": "ipython3",
   "version": "3.6.7"
  }
 },
 "nbformat": 4,
 "nbformat_minor": 2
}
