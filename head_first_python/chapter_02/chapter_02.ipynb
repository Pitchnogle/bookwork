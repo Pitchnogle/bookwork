{
 "cells": [
  {
   "cell_type": "code",
   "execution_count": 1,
   "metadata": {},
   "outputs": [
    {
     "name": "stdout",
     "output_type": "stream",
     "text": [
      "Palin\n",
      "Cleese\n",
      "Idle\n",
      "Jones\n",
      "Graham\n",
      "Gilliam\n"
     ]
    }
   ],
   "source": [
    "import nester\n",
    "cast = ['Palin', 'Cleese', 'Idle', 'Jones', 'Graham', 'Gilliam']\n",
    "nester.print_lol(cast)"
   ]
  },
  {
   "cell_type": "code",
   "execution_count": 2,
   "metadata": {},
   "outputs": [
    {
     "name": "stdout",
     "output_type": "stream",
     "text": [
      "Palin\n",
      "Cleese\n",
      "Idle\n",
      "Jones\n",
      "Graham\n",
      "Gilliam\n"
     ]
    }
   ],
   "source": [
    "from nester import print_lol\n",
    "cast = ['Palin', 'Cleese', 'Idle', 'Jones', 'Graham', 'Gilliam']\n",
    "print_lol(cast)"
   ]
  }
 ],
 "metadata": {
  "kernelspec": {
   "display_name": "Python 3",
   "language": "python",
   "name": "python3"
  },
  "language_info": {
   "codemirror_mode": {
    "name": "ipython",
    "version": 3
   },
   "file_extension": ".py",
   "mimetype": "text/x-python",
   "name": "python",
   "nbconvert_exporter": "python",
   "pygments_lexer": "ipython3",
   "version": "3.6.7"
  }
 },
 "nbformat": 4,
 "nbformat_minor": 2
}
