{
 "cells": [
  {
   "cell_type": "code",
   "execution_count": 1,
   "metadata": {
    "scrolled": true
   },
   "outputs": [
    {
     "name": "stdout",
     "output_type": "stream",
     "text": [
      "Palin\n",
      "Cleese\n",
      "Idle\n",
      "Jones\n",
      "Graham\n",
      "Gilliam\n"
     ]
    }
   ],
   "source": [
    "import nester\n",
    "cast = ['Palin', 'Cleese', 'Idle', 'Jones', 'Graham', 'Gilliam']\n",
    "nester.print_lol(cast)"
   ]
  },
  {
   "cell_type": "code",
   "execution_count": 2,
   "metadata": {},
   "outputs": [
    {
     "name": "stdout",
     "output_type": "stream",
     "text": [
      "Palin\n",
      "Cleese\n",
      "Idle\n",
      "Jones\n",
      "Graham\n",
      "Gilliam\n"
     ]
    }
   ],
   "source": [
    "from nester import print_lol\n",
    "cast = ['Palin', 'Cleese', 'Idle', 'Jones', 'Graham', 'Gilliam']\n",
    "print_lol(cast)"
   ]
  },
  {
   "cell_type": "code",
   "execution_count": 3,
   "metadata": {},
   "outputs": [
    {
     "name": "stdout",
     "output_type": "stream",
     "text": [
      "The Holy Grail\n",
      "1975\n",
      "Terry Jones\n",
      "Terry Gilliam\n",
      "91\n",
      "Graham Chapman\n",
      "Michael Palin\n",
      "John Cleese\n",
      "Terry Gilliam\n",
      "Eric Idle\n",
      "Terry Jones\n"
     ]
    }
   ],
   "source": [
    "movie = [\"The Holy Grail\", 1975, [\"Terry Jones\", \"Terry Gilliam\"], 91, [\"Graham Chapman\", ['Michael Palin', 'John Cleese', 'Terry Gilliam', 'Eric Idle', 'Terry Jones']]]\n",
    "print_lol(movie)"
   ]
  },
  {
   "cell_type": "code",
   "execution_count": 4,
   "metadata": {},
   "outputs": [
    {
     "name": "stdout",
     "output_type": "stream",
     "text": [
      "The Holy Grail\n",
      "1975\n",
      "  Terry Jones\n",
      "  Terry Gilliam\n",
      "91\n",
      "  Graham Chapman\n",
      "    Michael Palin\n",
      "    John Cleese\n",
      "    Terry Gilliam\n",
      "    Eric Idle\n",
      "    Terry Jones\n"
     ]
    }
   ],
   "source": [
    "print_lol(movie, True)"
   ]
  },
  {
   "cell_type": "code",
   "execution_count": 5,
   "metadata": {},
   "outputs": [
    {
     "name": "stdout",
     "output_type": "stream",
     "text": [
      "      The Holy Grail\n",
      "      1975\n",
      "        Terry Jones\n",
      "        Terry Gilliam\n",
      "      91\n",
      "        Graham Chapman\n",
      "          Michael Palin\n",
      "          John Cleese\n",
      "          Terry Gilliam\n",
      "          Eric Idle\n",
      "          Terry Jones\n"
     ]
    }
   ],
   "source": [
    "print_lol(movie, True, 3)"
   ]
  }
 ],
 "metadata": {
  "kernelspec": {
   "display_name": "Python 3",
   "language": "python",
   "name": "python3"
  },
  "language_info": {
   "codemirror_mode": {
    "name": "ipython",
    "version": 3
   },
   "file_extension": ".py",
   "mimetype": "text/x-python",
   "name": "python",
   "nbconvert_exporter": "python",
   "pygments_lexer": "ipython3",
   "version": "3.6.7"
  }
 },
 "nbformat": 4,
 "nbformat_minor": 2
}
